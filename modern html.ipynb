{
  "nbformat": 4,
  "nbformat_minor": 0,
  "metadata": {
    "colab": {
      "provenance": []
    },
    "kernelspec": {
      "name": "python3",
      "display_name": "Python 3"
    },
    "language_info": {
      "name": "python"
    }
  },
  "cells": [
    {
      "cell_type": "code",
      "execution_count": null,
      "metadata": {
        "id": "keFJBLFG0iYP"
      },
      "outputs": [],
      "source": []
    },
    {
      "cell_type": "markdown",
      "source": [
        "1. Features of HTML5\n",
        "Semantic Elements: Introduces <article>, <section>, <header>, <footer>, etc., for better document structure.\n",
        "Audio & Video Support: Native support for <audio> and <video> without external plugins.\n",
        "Canvas & SVG: Enables drawing graphics and animations using <canvas> and <svg>.\n",
        "Local Storage & Session Storage: Provides localStorage and sessionStorage for storing data on the client side.\n",
        "Geolocation API: Allows fetching user location.\n",
        "Responsive Design Features: Works well with CSS3 for mobile-friendly layouts.\n",
        "Form Enhancements: New input types like <input type=\"email\">, <input type=\"date\">, and new attributes like placeholder.\n",
        "WebSockets & Web Workers: Enables real-time data exchange and background processing.\n",
        "2. HTML Entities & 5 Commonly Used Ones\n",
        "HTML entities are special characters used to display reserved symbols in HTML. They start with & and end with ;.\n",
        "\n",
        "Examples:\n",
        "\n",
        "&lt; → < (Less than)\n",
        "&gt; → > (Greater than)\n",
        "&amp; → & (Ampersand)\n",
        "&quot; → \" (Double quote)\n",
        "&copy; → © (Copyright)\n",
        "3. Accessibility in Web Development\n",
        "Definition: Web accessibility ensures that websites are usable by people with disabilities, such as those with visual, auditory, motor, or cognitive impairments.\n",
        "\n",
        "Importance:\n",
        "\n",
        "Inclusivity: Makes web content accessible to all users, including those using screen readers.\n",
        "Legal Compliance: Many countries have accessibility laws (e.g., WCAG standards).\n",
        "Better User Experience: Improves usability for all users, including elderly people and those with temporary disabilities.\n",
        "4. Three Ways to Improve Accessibility in HTML\n",
        "Use Semantic HTML: Tags like <header>, <nav>, <article>, and <footer> improve screen reader navigation.\n",
        "Provide Alt Text for Images: Use alt=\"description\" in <img> tags to help visually impaired users.\n",
        "Keyboard Navigation Support: Ensure users can navigate using the Tab key and proper focus states."
      ],
      "metadata": {
        "id": "Oluy7PXN0jCP"
      }
    },
    {
      "cell_type": "code",
      "source": [
        "<!DOCTYPE html>\n",
        "<html lang=\"en\">\n",
        "<head>\n",
        "    <meta charset=\"UTF-8\">\n",
        "    <meta name=\"viewport\" content=\"width=device-width, initial-scale=1.0\">\n",
        "    <title>HTML5 Features</title>\n",
        "</head>\n",
        "<body>\n",
        "\n",
        "    <header>\n",
        "        <h1>Key Features of HTML5</h1>\n",
        "    </header>\n",
        "\n",
        "    <section>\n",
        "        <h2>1. Semantic Elements</h2>\n",
        "        <p>HTML5 introduces elements like <code>&lt;article&gt;</code>, <code>&lt;section&gt;</code>, and <code>&lt;header&gt;</code> for better structuring.</p>\n",
        "    </section>\n",
        "\n",
        "    <section>\n",
        "        <h2>2. Multimedia Support</h2>\n",
        "        <p>HTML5 provides native support for <code>&lt;audio&gt;</code> and <code>&lt;video&gt;</code> without requiring plugins.</p>\n",
        "        <video controls width=\"300\">\n",
        "            <source src=\"sample.mp4\" type=\"video/mp4\">\n",
        "            Your browser does not support the video tag.\n",
        "        </video>\n",
        "    </section>\n",
        "\n",
        "    <section>\n",
        "        <h2>3. Local Storage</h2>\n",
        "        <p>Unlike cookies, HTML5 provides <code>localStorage</code> and <code>sessionStorage</code> for storing data in the browser.</p>\n",
        "    </section>\n",
        "\n",
        "</body>\n",
        "</html>\n"
      ],
      "metadata": {
        "id": "BJQdsU1F0lWT"
      },
      "execution_count": null,
      "outputs": []
    },
    {
      "cell_type": "code",
      "source": [
        "<!DOCTYPE html>\n",
        "<html lang=\"en\">\n",
        "<head>\n",
        "    <meta charset=\"UTF-8\">\n",
        "    <meta name=\"viewport\" content=\"width=device-width, initial-scale=1.0\">\n",
        "    <title>HTML vs HTML5</title>\n",
        "</head>\n",
        "<body>\n",
        "\n",
        "    <h1>Difference Between HTML and HTML5</h1>\n",
        "\n",
        "    <table border=\"1\" cellpadding=\"10\">\n",
        "        <tr>\n",
        "            <th>HTML</th>\n",
        "            <th>HTML5</th>\n",
        "        </tr>\n",
        "        <tr>\n",
        "            <td>Does not support video and audio without plugins.</td>\n",
        "            <td>Provides native support for <code>&lt;audio&gt;</code> and <code>&lt;video&gt;</code> elements.</td>\n",
        "        </tr>\n",
        "        <tr>\n",
        "            <td>Uses non-semantic elements like <code>&lt;div&gt;</code> and <code>&lt;span&gt;</code> for layout.</td>\n",
        "            <td>Introduces semantic elements like <code>&lt;header&gt;</code>, <code>&lt;section&gt;</code>, and <code>&lt;footer&gt;</code>.</td>\n",
        "        </tr>\n",
        "        <tr>\n",
        "            <td>Relies on cookies for storing user data.</td>\n",
        "            <td>Provides <code>localStorage</code> and <code>sessionStorage</code> for client-side storage.</td>\n",
        "        </tr>\n",
        "    </table>\n",
        "\n",
        "</body>\n",
        "</html>\n"
      ],
      "metadata": {
        "id": "eXH_SZCZ0vFs"
      },
      "execution_count": null,
      "outputs": []
    }
  ]
}